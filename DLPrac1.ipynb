{
  "nbformat": 4,
  "nbformat_minor": 0,
  "metadata": {
    "colab": {
      "provenance": [],
      "mount_file_id": "1ppgyAU8jnUzk8d1FHu_ymjcWiKKAHUdV",
      "authorship_tag": "ABX9TyMm4TId0K8BDYB8TZsS+dXV",
      "include_colab_link": true
    },
    "kernelspec": {
      "name": "python3",
      "display_name": "Python 3"
    },
    "language_info": {
      "name": "python"
    }
  },
  "cells": [
    {
      "cell_type": "markdown",
      "metadata": {
        "id": "view-in-github",
        "colab_type": "text"
      },
      "source": [
        "<a href=\"https://colab.research.google.com/github/kartik5465/deeplearning/blob/master/DLPrac1.ipynb\" target=\"_parent\"><img src=\"https://colab.research.google.com/assets/colab-badge.svg\" alt=\"Open In Colab\"/></a>"
      ]
    },
    {
      "cell_type": "code",
      "execution_count": null,
      "metadata": {
        "id": "mpZYHSOGNhN4"
      },
      "outputs": [],
      "source": [
        "import numpy as np\n",
        "import pandas as pd\n",
        "\n",
        "from sklearn.model_selection import train_test_split\n",
        "from keras.models import Sequential\n",
        "from keras.layers import Dense, Dropout\n",
        "from keras.callbacks import EarlyStopping, ModelCheckpoint\n",
        "from keras.optimizers import SGD, Adadelta, Adam, RMSprop, Adagrad, Nadam, Adamax\n",
        "\n",
        "SEED = 2017"
      ]
    },
    {
      "cell_type": "code",
      "source": [
        "data = pd.read_csv('/content/drive/MyDrive/Deep Learning/winequality-red.csv', sep=';')\n",
        "y = data['quality']\n",
        "X = data.drop(['quality'], axis=1)"
      ],
      "metadata": {
        "id": "jRsw68DEOF1u"
      },
      "execution_count": null,
      "outputs": []
    },
    {
      "cell_type": "code",
      "source": [
        "X_train, X_test, y_train, y_test = train_test_split(X, y, test_size=0.2, random_state=SEED)\n",
        "X_train, X_val, y_train, y_val = train_test_split(X_train, y_train, test_size=0.2, random_state=SEED)"
      ],
      "metadata": {
        "id": "qsTBdGOWPNV_"
      },
      "execution_count": null,
      "outputs": []
    },
    {
      "cell_type": "code",
      "source": [
        "def create_model(opt):\n",
        "    model = Sequential()\n",
        "    model.add(Dense(100, input_dim=X_train.shape[1],\n",
        "    activation='relu'))\n",
        "    model.add(Dense(50, activation='relu'))\n",
        "    model.add(Dense(25, activation='relu'))\n",
        "    model.add(Dense(10, activation='relu'))\n",
        "    model.add(Dense(1, activation='linear'))\n",
        "    return model"
      ],
      "metadata": {
        "id": "ykgs3Kh6PRNv"
      },
      "execution_count": null,
      "outputs": []
    },
    {
      "cell_type": "code",
      "source": [
        "def create_callbacks(opt):\n",
        "    callbacks = [\n",
        "    EarlyStopping(monitor='val_accuracy', patience=200, verbose=2),\n",
        "    ModelCheckpoint('checkpoints/optimizers_best_' + opt + '.h5', monitor='val_acc', save_best_only=True, verbose=0)\n",
        "    ]\n",
        "    return callbacks"
      ],
      "metadata": {
        "id": "oiJgRrpOPYNZ"
      },
      "execution_count": null,
      "outputs": []
    },
    {
      "cell_type": "code",
      "source": [
        "opts = dict({\n",
        "    'sgd': SGD(),\n",
        "     'sgd-0001': SGD(lr=0.0001, decay=0.00001),\n",
        "     'adam': Adam(),\n",
        "     'adadelta': Adadelta(),\n",
        "     'rmsprop': RMSprop(),\n",
        "     'rmsprop-0001': RMSprop(lr=0.0001),\n",
        "     'nadam': Nadam(),\n",
        "     'adamax': Adamax()\n",
        "    })"
      ],
      "metadata": {
        "colab": {
          "base_uri": "https://localhost:8080/"
        },
        "id": "Uy0khVWrPcEY",
        "outputId": "7104774f-c5f3-41e8-abb8-018b55424b71"
      },
      "execution_count": null,
      "outputs": [
        {
          "output_type": "stream",
          "name": "stderr",
          "text": [
            "/usr/local/lib/python3.9/dist-packages/keras/optimizers/legacy/gradient_descent.py:114: UserWarning: The `lr` argument is deprecated, use `learning_rate` instead.\n",
            "  super().__init__(name, **kwargs)\n",
            "/usr/local/lib/python3.9/dist-packages/keras/optimizers/legacy/rmsprop.py:143: UserWarning: The `lr` argument is deprecated, use `learning_rate` instead.\n",
            "  super().__init__(name, **kwargs)\n"
          ]
        }
      ]
    },
    {
      "cell_type": "code",
      "source": [
        "batch_size = 128\n",
        "n_epochs = 1000\n",
        "\n",
        "results = []\n",
        "# Loop through the optimizers\n",
        "for opt in opts:\n",
        "    model = create_model(opt)\n",
        "    callbacks = create_callbacks(opt)\n",
        "    model.compile(loss='mse', optimizer=opts[opt], metrics=['accuracy'])\n",
        "    hist = model.fit(X_train.values, y_train, batch_size=batch_size, epochs=n_epochs, validation_data=(X_val.values, y_val), verbose=0,\n",
        "    callbacks=callbacks)\n",
        "    best_epoch = np.argmax(hist.history['val_accuracy'])\n",
        "    best_acc = hist.history['val_accuracy'][best_epoch]\n",
        "    best_model = create_model(opt)\n",
        "    # Load the model weights with the highest validation accuracy\n",
        "    best_model.load_weights('checkpoints/optimizers_best_' + opt + '.h5')\n",
        "    best_model.compile(loss='mse', optimizer=opts[opt], metrics=['accuracy'])\n",
        "    score = best_model.evaluate(X_test.values, y_test, verbose=0)\n",
        "    results.append([opt, best_epoch, best_acc, score[1]])"
      ],
      "metadata": {
        "id": "dWZ0vjWAPfsA"
      },
      "execution_count": null,
      "outputs": []
    },
    {
      "cell_type": "code",
      "source": [
        "res = pd.DataFrame(results)\n",
        "res.columns = ['optimizer', 'epochs', 'val_accuracy', 'test_accuracy']\n",
        "res"
      ],
      "metadata": {
        "id": "8ki5_U_vPmSd"
      },
      "execution_count": null,
      "outputs": []
    }
  ]
}