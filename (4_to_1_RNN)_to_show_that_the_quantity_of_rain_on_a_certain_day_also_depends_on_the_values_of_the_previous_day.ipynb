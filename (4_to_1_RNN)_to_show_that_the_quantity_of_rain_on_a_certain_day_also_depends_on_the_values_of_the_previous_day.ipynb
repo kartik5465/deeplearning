{
  "nbformat": 4,
  "nbformat_minor": 0,
  "metadata": {
    "colab": {
      "provenance": [],
      "authorship_tag": "ABX9TyPRm15U/BTggJL1e3uZWNH5",
      "include_colab_link": true
    },
    "kernelspec": {
      "name": "python3",
      "display_name": "Python 3"
    },
    "language_info": {
      "name": "python"
    }
  },
  "cells": [
    {
      "cell_type": "markdown",
      "metadata": {
        "id": "view-in-github",
        "colab_type": "text"
      },
      "source": [
        "<a href=\"https://colab.research.google.com/github/kartik5465/deeplearning/blob/master/(4_to_1_RNN)_to_show_that_the_quantity_of_rain_on_a_certain_day_also_depends_on_the_values_of_the_previous_day.ipynb\" target=\"_parent\"><img src=\"https://colab.research.google.com/assets/colab-badge.svg\" alt=\"Open In Colab\"/></a>"
      ]
    },
    {
      "cell_type": "code",
      "execution_count": null,
      "metadata": {
        "id": "dA2f3VwZmGPt"
      },
      "outputs": [],
      "source": [
        "import numpy as np"
      ]
    },
    {
      "cell_type": "code",
      "source": [
        "X = []\n",
        "X.append([1,0,0,0])\n",
        "X.append([0,1,0,0])\n",
        "X.append([0,0,1,0])\n",
        "X.append([0,0,0,1])\n",
        "X.append([0,0,0,1])\n",
        "X.append([1,0,0,0])\n",
        "X.append([0,1,0,0])\n",
        "X.append([0,0,1,0])\n",
        "X.append([0,0,0,1])\n",
        "\n",
        "y = [0.20, 0.30, 0.40, 0.50, 0.05, 0.10, 0.20, 0.30, 0.40]"
      ],
      "metadata": {
        "id": "ZZNr7FfwnZGA"
      },
      "execution_count": null,
      "outputs": []
    },
    {
      "cell_type": "code",
      "source": [
        "def sigmoid(x):\n",
        "    return 1 / (1 + np.exp(-x))\n",
        "\n",
        "def sigmoid_der(x):\n",
        "    return 1.0 - x**2"
      ],
      "metadata": {
        "id": "LE4P95Ornbbw"
      },
      "execution_count": null,
      "outputs": []
    },
    {
      "cell_type": "code",
      "source": [
        "layers = []\n",
        "# 4 input variables, 10 hidden units and 1 output variable\n",
        "n_units = (4, 16, 1)\n",
        "n_layers = len(n_units)\n",
        "\n",
        "layers.append(np.ones(n_units[0]+1+n_units[1]))\n",
        "for i in range(1, n_layers):\n",
        "    layers.append(np.ones(n_units[i]))\n",
        "\n",
        "weights = []\n",
        "for i in range(n_layers-1):\n",
        "    weights.append(np.zeros((layers[i].size, layers[i+1].size)))\n",
        "\n",
        "weights_delta = [0,]*len(weights)"
      ],
      "metadata": {
        "id": "KJ6usqpIneAX"
      },
      "execution_count": null,
      "outputs": []
    },
    {
      "cell_type": "code",
      "source": [
        "def forwards(data):\n",
        "    layers[0][:n_units[0]] = data\n",
        "    layers[0][n_units[0]:-1] = layers[1]\n",
        "\n",
        "    # Propagate the data forwards\n",
        "    for i in range(1, n_layers):\n",
        "        layers[i][...] = sigmoid(np.dot(layers[i-1], weights[i-1]))\n",
        "\n",
        "    return layers[-1]"
      ],
      "metadata": {
        "id": "7p2ur1vgnhp_"
      },
      "execution_count": null,
      "outputs": []
    },
    {
      "cell_type": "code",
      "source": [
        "def backwards(target, learning_rate=0.1, momentum=0.1):\n",
        "    deltas = []\n",
        "    error = target - layers[-1]\n",
        "    delta = error * sigmoid_der(layers[-1])\n",
        "    deltas.append(delta)\n",
        "\n",
        "    # Determine error in hidden layers\n",
        "    for i in range(n_layers-2, 0, -1):\n",
        "        delta = np.dot(deltas[0], weights[i].T) * sigmoid_der(layers[i])\n",
        "        deltas.insert(0, delta)\n",
        "\n",
        "    # Update weights\n",
        "    for i in range(len(weights)):\n",
        "        layer = np.atleast_2d(layers[i])\n",
        "        delta = np.atleast_2d(deltas[i])\n",
        "        weights_delta_temp = np.dot(layer.T, delta)\n",
        "        weights[i] += learning_rate*weights_delta_temp + momentum*weights_delta[i]\n",
        "        weights_delta[i] = weights_delta_temp\n",
        "\n",
        "    return (error**2).sum()"
      ],
      "metadata": {
        "id": "E0EGqNCZnkNw"
      },
      "execution_count": null,
      "outputs": []
    },
    {
      "cell_type": "code",
      "source": [
        "n_epochs = 10000\n",
        "\n",
        "for i in range(n_epochs):\n",
        "    loss = 0\n",
        "    for j in range(len(X)):\n",
        "        forwards(X[j])\n",
        "        backwards(y[j])\n",
        "        loss += (y[j]-forwards(X[j]))**2\n",
        "    if i%1000 == 0: print('epoch {} - loss: {:04.4f}'.format(i, loss[0]))"
      ],
      "metadata": {
        "colab": {
          "base_uri": "https://localhost:8080/"
        },
        "id": "3nxEtCqmnm3f",
        "outputId": "0b289651-51e1-4bb1-cfe7-df18b0e4c734"
      },
      "execution_count": null,
      "outputs": [
        {
          "output_type": "stream",
          "name": "stdout",
          "text": [
            "epoch 0 - loss: 0.3116\n",
            "epoch 1000 - loss: 0.1660\n",
            "epoch 2000 - loss: 0.1801\n",
            "epoch 3000 - loss: 0.1877\n",
            "epoch 4000 - loss: 0.1914\n",
            "epoch 5000 - loss: 0.1922\n",
            "epoch 6000 - loss: 0.1920\n",
            "epoch 7000 - loss: 0.1916\n",
            "epoch 8000 - loss: 0.1913\n",
            "epoch 9000 - loss: 0.1912\n"
          ]
        }
      ]
    },
    {
      "cell_type": "code",
      "source": [
        "for i in range(len(X)):\n",
        "    pred = forwards(X[i])\n",
        "    loss = (y[i]-pred)**2\n",
        "    print('X: {}; y: {:04.2f}; pred: {:04.2f}'.format(X[i], y[i], pred[0]))"
      ],
      "metadata": {
        "colab": {
          "base_uri": "https://localhost:8080/"
        },
        "id": "XcYBkOGKno9I",
        "outputId": "db421a95-7eec-415c-a1b9-780ca6e7cd09"
      },
      "execution_count": null,
      "outputs": [
        {
          "output_type": "stream",
          "name": "stdout",
          "text": [
            "X: [1, 0, 0, 0]; y: 0.20; pred: 0.15\n",
            "X: [0, 1, 0, 0]; y: 0.30; pred: 0.39\n",
            "X: [0, 0, 1, 0]; y: 0.40; pred: 0.29\n",
            "X: [0, 0, 0, 1]; y: 0.50; pred: 0.34\n",
            "X: [0, 0, 0, 1]; y: 0.05; pred: 0.30\n",
            "X: [1, 0, 0, 0]; y: 0.10; pred: 0.16\n",
            "X: [0, 1, 0, 0]; y: 0.20; pred: 0.38\n",
            "X: [0, 0, 1, 0]; y: 0.30; pred: 0.30\n",
            "X: [0, 0, 0, 1]; y: 0.40; pred: 0.33\n"
          ]
        }
      ]
    }
  ]
}