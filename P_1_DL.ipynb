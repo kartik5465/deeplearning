{
  "nbformat": 4,
  "nbformat_minor": 0,
  "metadata": {
    "colab": {
      "provenance": [],
      "include_colab_link": true
    },
    "kernelspec": {
      "name": "python3",
      "display_name": "Python 3"
    },
    "language_info": {
      "name": "python"
    },
    "accelerator": "GPU",
    "gpuClass": "standard"
  },
  "cells": [
    {
      "cell_type": "markdown",
      "metadata": {
        "id": "view-in-github",
        "colab_type": "text"
      },
      "source": [
        "<a href=\"https://colab.research.google.com/github/kartik5465/deeplearning/blob/master/P_1_DL.ipynb\" target=\"_parent\"><img src=\"https://colab.research.google.com/assets/colab-badge.svg\" alt=\"Open In Colab\"/></a>"
      ]
    },
    {
      "cell_type": "markdown",
      "source": [],
      "metadata": {
        "id": "dUhF1Di_0AKk"
      }
    },
    {
      "cell_type": "code",
      "execution_count": null,
      "metadata": {
        "id": "qwfqM_RFw2Fq"
      },
      "outputs": [],
      "source": [
        "import tensorflow as tf\n",
        "from tensorflow.keras.datasets import mnist\n",
        "from tensorflow.keras.layers import Dense, Flatten\n",
        "from tensorflow.keras.models import Sequential"
      ]
    },
    {
      "cell_type": "code",
      "source": [
        "import tensorflow as tf\n",
        "from tensorflow.keras.datasets import mnist\n",
        "from tensorflow.keras.layers import Dense, Flatten\n",
        "from tensorflow.keras.models import Sequential\n",
        "\n",
        "# Load the MNIST dataset\n",
        "(x_train, y_train), (x_test, y_test) = mnist.load_data()\n",
        "x_train, x_test = x_train / 255.0, x_test / 255.0\n",
        "\n",
        "# Build the model\n",
        "model = Sequential([\n",
        "  Flatten(input_shape=(28, 28)),\n",
        "  Dense(128, activation='relu'),\n",
        "  Dense(10, activation='softmax')\n",
        "])\n",
        "\n",
        "# Define the training parameters\n",
        "epochs = 10\n",
        "batch_size = 32\n",
        "\n",
        "# Define the loss function and metrics\n",
        "loss_fn = tf.keras.losses.SparseCategoricalCrossentropy()\n",
        "metrics = ['accuracy']\n",
        "\n",
        "# Train the model with different optimizers\n",
        "optimizers = [\n",
        "  tf.keras.optimizers.SGD(),\n",
        "  tf.keras.optimizers.Adam(),\n",
        "  tf.keras.optimizers.RMSprop()\n",
        "]\n",
        "\n",
        "for optimizer in optimizers:\n",
        "  # Compile the model with the current optimizer\n",
        "  model.compile(optimizer=optimizer, loss=loss_fn, metrics=metrics)\n",
        "\n",
        "  # Train the model\n",
        "  model.fit(x_train, y_train, epochs=epochs, batch_size=batch_size)\n",
        "\n",
        "  # Evaluate the model on the test set\n",
        "  test_loss, test_acc = model.evaluate(x_test, y_test, verbose=2)\n",
        "  print(f'Test accuracy with {type(optimizer).__name__} optimizer: {test_acc}')\n"
      ],
      "metadata": {
        "id": "oeKuMhZ0xO6J"
      },
      "execution_count": null,
      "outputs": []
    }
  ]
}